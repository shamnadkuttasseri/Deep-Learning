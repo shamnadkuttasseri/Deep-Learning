{
 "cells": [
  {
   "cell_type": "code",
   "execution_count": 7,
   "id": "58377fa0",
   "metadata": {},
   "outputs": [],
   "source": [
    "import mediapipe as mp\n",
    "import cv2"
   ]
  },
  {
   "cell_type": "code",
   "execution_count": 8,
   "id": "aa687857",
   "metadata": {},
   "outputs": [],
   "source": [
    "mp_drawings = mp.solutions.drawing_utils\n",
    "mp_drawing_styles = mp.solutions.drawing_styles\n",
    "mp_hands = mp.solutions.hands"
   ]
  },
  {
   "cell_type": "code",
   "execution_count": 9,
   "id": "08eb1144",
   "metadata": {},
   "outputs": [],
   "source": [
    "hands=mp_hands.Hands()"
   ]
  },
  {
   "cell_type": "code",
   "execution_count": 10,
   "id": "3587fd0f",
   "metadata": {},
   "outputs": [],
   "source": [
    "video=cv2.VideoCapture(0)\n",
    "while True:\n",
    "    suc,img=video.read()                  #Reading a Frame:suc,img=video.read() captures a feed from the video feed.\n",
    "    img=cv2.cvtColor(img,cv2.COLOR_BGR2RGB)#Color Conversion(BGR2RGB):img=cv2.cvtColor(img,cv2.COLOR_BGR2RGB)converts image from BGR(OpenCV's default) to RGB(required by Mediapipe)\n",
    "    result=hands.process(img)     #processes the image to detect\n",
    "    img=cv2.cvtColor(img,cv2.COLOR_RGB2BGR)#converts the image back to BGR from RGB\n",
    "    if result.multi_hand_landmarks:                  #loop iterates through each detected faces\n",
    "        for hand_landmarks in result.multi_hand_landmarks:\n",
    "            mp_drawings.draw_landmarks(img,hand_landmarks,mp_hands.HAND_CONNECTIONS) #draws detected image on the image\n",
    "    cv2.imshow('HAND',img)                      #dispays the image with detected faces.\n",
    "    if cv2.waitKey(1) & 0XFF==ord('q'):         #breaks the loop and exits if the 'q' key pressed.\n",
    "        break\n",
    "video.release()\n",
    "cv2.destroyAllWindows()"
   ]
  },
  {
   "cell_type": "code",
   "execution_count": 11,
   "id": "395a628e",
   "metadata": {
    "scrolled": true
   },
   "outputs": [
    {
     "data": {
      "text/plain": [
       "[landmark {\n",
       "   x: 0.683201432\n",
       "   y: 0.862876654\n",
       "   z: 6.07606694e-007\n",
       " }\n",
       " landmark {\n",
       "   x: 0.588824391\n",
       "   y: 0.825278401\n",
       "   z: -0.0482014976\n",
       " }\n",
       " landmark {\n",
       "   x: 0.515523493\n",
       "   y: 0.735087454\n",
       "   z: -0.0680671632\n",
       " }\n",
       " landmark {\n",
       "   x: 0.479466081\n",
       "   y: 0.641471207\n",
       "   z: -0.0827937275\n",
       " }\n",
       " landmark {\n",
       "   x: 0.44992125\n",
       "   y: 0.553964615\n",
       "   z: -0.0951820835\n",
       " }\n",
       " landmark {\n",
       "   x: 0.577350199\n",
       "   y: 0.533792496\n",
       "   z: -0.0288717654\n",
       " }\n",
       " landmark {\n",
       "   x: 0.549263358\n",
       "   y: 0.402855068\n",
       "   z: -0.0517078117\n",
       " }\n",
       " landmark {\n",
       "   x: 0.533973336\n",
       "   y: 0.322835445\n",
       "   z: -0.0727070794\n",
       " }\n",
       " landmark {\n",
       "   x: 0.524495363\n",
       "   y: 0.25122574\n",
       "   z: -0.0897865519\n",
       " }\n",
       " landmark {\n",
       "   x: 0.638789237\n",
       "   y: 0.513161778\n",
       "   z: -0.0288083423\n",
       " }\n",
       " landmark {\n",
       "   x: 0.628849\n",
       "   y: 0.364767462\n",
       "   z: -0.0455080904\n",
       " }\n",
       " landmark {\n",
       "   x: 0.623531222\n",
       "   y: 0.270765454\n",
       "   z: -0.0645437\n",
       " }\n",
       " landmark {\n",
       "   x: 0.619828343\n",
       "   y: 0.194239199\n",
       "   z: -0.0803227648\n",
       " }\n",
       " landmark {\n",
       "   x: 0.695544\n",
       "   y: 0.528154492\n",
       "   z: -0.0364286229\n",
       " }\n",
       " landmark {\n",
       "   x: 0.704503536\n",
       "   y: 0.394600391\n",
       "   z: -0.0596739799\n",
       " }\n",
       " landmark {\n",
       "   x: 0.70972997\n",
       "   y: 0.307487935\n",
       "   z: -0.0788582638\n",
       " }\n",
       " landmark {\n",
       "   x: 0.71244359\n",
       "   y: 0.228179097\n",
       "   z: -0.0940656438\n",
       " }\n",
       " landmark {\n",
       "   x: 0.750741482\n",
       "   y: 0.57037735\n",
       "   z: -0.0489951931\n",
       " }\n",
       " landmark {\n",
       "   x: 0.778752208\n",
       "   y: 0.481447637\n",
       "   z: -0.0740153193\n",
       " }\n",
       " landmark {\n",
       "   x: 0.797665179\n",
       "   y: 0.41994366\n",
       "   z: -0.08665815\n",
       " }\n",
       " landmark {\n",
       "   x: 0.813587487\n",
       "   y: 0.358970761\n",
       "   z: -0.0958616361\n",
       " }]"
      ]
     },
     "execution_count": 11,
     "metadata": {},
     "output_type": "execute_result"
    }
   ],
   "source": [
    "result.multi_hand_landmarks"
   ]
  },
  {
   "cell_type": "code",
   "execution_count": null,
   "id": "9a8fbafc",
   "metadata": {},
   "outputs": [],
   "source": []
  }
 ],
 "metadata": {
  "kernelspec": {
   "display_name": "Python 3 (ipykernel)",
   "language": "python",
   "name": "python3"
  },
  "language_info": {
   "codemirror_mode": {
    "name": "ipython",
    "version": 3
   },
   "file_extension": ".py",
   "mimetype": "text/x-python",
   "name": "python",
   "nbconvert_exporter": "python",
   "pygments_lexer": "ipython3",
   "version": "3.11.5"
  }
 },
 "nbformat": 4,
 "nbformat_minor": 5
}
